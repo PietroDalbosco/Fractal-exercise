{
 "cells": [
  {
   "cell_type": "markdown",
   "id": "924f518c-d2d4-479c-933d-b62fab85df36",
   "metadata": {},
   "source": [
    "Our task is to find the roots of a given function in the complex plane via the Newton-Raphson method.\n",
    "The iteration scheme is the same as for functions in real space:\n",
    "\\begin{equation}\n",
    "    z_{n+1}=z_n-\\frac{f(z)}{f'(z)},\\quad\\textnormal{where}\\quad z\\in\\mathbb{C}.\n",
    "\\end{equation}\n",
    "\n",
    "Firstly, we consider the following complex-valued function:\n",
    "\\begin{equation}\n",
    "    f(z)=z^3-1.\n",
    "\\end{equation}\n",
    "\n",
    "Thus, we are asked to solve the equation: $z^3-1=0$.\n",
    "\n",
    "The iteration procedure in our case reads:\n",
    "\\begin{equation}\n",
    "    z_{n+1}=z_n-\\frac{z^3_n-1}{3z^2_n}.\n",
    "\\end{equation}"
   ]
  },
  {
   "cell_type": "code",
   "execution_count": 2,
   "id": "0c8d1fbe-3cd0-4452-89db-bddfecae9407",
   "metadata": {},
   "outputs": [],
   "source": [
    "import cmath   # to deal with complex numbers\n",
    "import numpy as np\n",
    "from matplotlib import pyplot as plt "
   ]
  },
  {
   "cell_type": "markdown",
   "id": "1b0fa29a-3287-433f-99db-09e859f7375b",
   "metadata": {},
   "source": [
    "In the next section we define de following functions:\n",
    "- $\\textbf{f}$ evaluates the complex function.\n",
    "- $\\textbf{Newton\\_Raphson}$ evaluates the recurrence relation.\n",
    "- $\\textbf{solve\\_cnewton}$ performs the Newton_Raphson method for a given initial point and returns the coordinates of the starting point, the root (or the last guess if it does not converge), the function evaluated at the root, the number of steps $n$, and $\\log_{10}(n)$."
   ]
  },
  {
   "cell_type": "code",
   "execution_count": 4,
   "id": "9bebabea-837a-406a-b45a-d1bef85572d6",
   "metadata": {},
   "outputs": [],
   "source": [
    "def f(z):\n",
    "    return z**3 - 1\n",
    "\n",
    "\n",
    "def Newton_Raphson(z):\n",
    "    z_new = z - (z**3 - 1)/(3*z**2)\n",
    "    return z_new\n",
    "\n",
    "\n",
    "def solve_cnewton(duplet):\n",
    "    counter = 0\n",
    "    \n",
    "    x_duplet, y_duplet = duplet\n",
    "    z = complex(x_duplet, y_duplet)   # make the duplet a point of the complex plane\n",
    "    #print(\"z=\",z)\n",
    "    \n",
    "    for i in range(M):\n",
    "        z_new = Newton_Raphson(z)\n",
    "        counter = counter + 1\n",
    "        \n",
    "        f_new = f(z_new)\n",
    "    \n",
    "        if f_new == 0 or abs(z_new - z) < tolerance:   # we are done\n",
    "            return x_duplet, y_duplet, z_new, f_new, counter, np.log10(counter)\n",
    "        elif i == M - 1:\n",
    "            return x_duplet, y_duplet, z_new, f_new, counter, np.log10(counter)\n",
    "\n",
    "        z = z_new"
   ]
  },
  {
   "cell_type": "code",
   "execution_count": 20,
   "id": "5fe60a66-6e2c-4fae-aed6-c732d2436679",
   "metadata": {},
   "outputs": [
    {
     "name": "stdout",
     "output_type": "stream",
     "text": [
      "-1.9420289855072463 1.8840579710144927 (-0.5+0.8660254037844386j) (-2.220446049250313e-16+1.1102230246251565e-16j) 8 0.9030899869919435\n"
     ]
    },
    {
     "data": {
      "image/png": "[encoded data removed]",
      "text/plain": [
       "<Figure size 640x480 with 1 Axes>"
      ]
     },
     "metadata": {},
     "output_type": "display_data"
    }
   ],
   "source": [
    "tolerance = 1e-9\n",
    "M = 200   # maximal number of steps\n",
    "N = 70   # dimension of the square grid (NxN square matrix)\n",
    "\n",
    "grid_point1 = (-2, 2)   # upper left\n",
    "grid_point2 = (2, -2)   # lower right\n",
    "x1, y1 = grid_point1\n",
    "x2, y2 = grid_point2\n",
    "\n",
    "x_values = np.linspace(x1, x2, N)   # create the two \"axes\" of the grid\n",
    "y_values = np.linspace(y1, y2, N)\n",
    "\n",
    "x, y = np.meshgrid(x_values, y_values)   # create coordinates of the grid points\n",
    "#print(\"x=\",x)\n",
    "#print(\"y=\",y)\n",
    "grid = np.dstack((x, y))   # construct the grid, each point of it corresponds to a duplet (x, y)\n",
    "#print(grid)\n",
    "#print(grid[N-1][N-1])\n",
    "\n",
    "x_duplet, y_duplet, root, f_root, counter, log_counter = solve_cnewton(grid[2][1])   # test\n",
    "print(x_duplet, y_duplet, root, f_root, counter, log_counter)\n",
    "\n",
    "plt.figure()\n",
    "for i in range(N):\n",
    "    for j in range(N):\n",
    "        x_duplet, y_duplet, root, f_root, counter, log_counter = solve_cnewton(grid[i][j])\n",
    "        if abs(root.real - 1) < tolerance:\n",
    "            plt.scatter(x_duplet, y_duplet, c=\"k\", marker=\".\")\n",
    "        else:\n",
    "            plt.scatter(x_duplet, y_duplet, c=\"r\", marker=\".\")\n",
    "        #print(f\"x0={x_duplet}, y0={y_duplet}, root={root}, f(root)={f_root}, counter={counter}, log={log_counter}\")\n",
    "        #print(\"\")"
   ]
  },
  {
   "cell_type": "code",
   "execution_count": null,
   "id": "5f5e6e3b-d749-48dc-80a6-b00b15a04905",
   "metadata": {},
   "outputs": [],
   "source": []
  }
 ],
 "metadata": {
  "kernelspec": {
   "display_name": "Python 3 (ipykernel)",
   "language": "python",
   "name": "python3"
  },
  "language_info": {
   "codemirror_mode": {
    "name": "ipython",
    "version": 3
   },
   "file_extension": ".py",
   "mimetype": "text/x-python",
   "name": "python",
   "nbconvert_exporter": "python",
   "pygments_lexer": "ipython3",
   "version": "3.12.7"
  }
 },
 "nbformat": 4,
 "nbformat_minor": 5
}
